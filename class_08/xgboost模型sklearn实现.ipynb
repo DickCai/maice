{
 "cells": [
  {
   "cell_type": "markdown",
   "metadata": {},
   "source": [
    "# xgboost 模型的sklearn api调用"
   ]
  },
  {
   "cell_type": "code",
   "execution_count": 110,
   "metadata": {},
   "outputs": [],
   "source": [
    "# 数据读取以及xy提取\n",
    "import pandas as pd\n",
    "import matplotlib.pyplot as plt\n",
    "# 样例数据读取\n",
    "df = pd.read_excel('realestate_sample_preprocessed.xlsx')\n",
    "# 根据共线性矩阵，保留与房价相关性最高的日间人口，将夜间人口和20-39岁夜间人口进行比例处理\n",
    "def age_percent(row):\n",
    "    if row['nightpop'] == 0:\n",
    "        return 0\n",
    "    else:\n",
    "        return row['night20-39']/row['nightpop']\n",
    "df['per_a20_39'] = df.apply(age_percent,axis=1)\n",
    "# 制作标签变量\n",
    "price_median = df['average_price'].median()\n",
    "df['is_high'] = df['average_price'].map(lambda x: True if x>= price_median else False)\n",
    "# 数据集基本情况查看\n",
    "# 划分数据集\n",
    "x = df[['complete_year','area', 'daypop', 'sub_kde',\n",
    "       'bus_kde', 'kind_kde','nightpop','night20-39','per_a20_39']]\n",
    "y = df['is_high']"
   ]
  },
  {
   "cell_type": "code",
   "execution_count": 111,
   "metadata": {
    "scrolled": true
   },
   "outputs": [
    {
     "name": "stdout",
     "output_type": "stream",
     "text": [
      "StratifiedKFold(n_splits=5, random_state=None, shuffle=True)\n"
     ]
    }
   ],
   "source": [
    "# 构建分类模型的交叉验证策略\n",
    "from sklearn.model_selection import StratifiedKFold\n",
    "k = 5\n",
    "kf = StratifiedKFold(n_splits=k, shuffle=True)\n",
    "kf.get_n_splits(x, y)\n",
    "print(kf)"
   ]
  },
  {
   "cell_type": "code",
   "execution_count": 112,
   "metadata": {},
   "outputs": [
    {
     "name": "stdout",
     "output_type": "stream",
     "text": [
      "Pipeline(memory=None,\n",
      "     steps=[('sc', StandardScaler(copy=True, with_mean=True, with_std=True)), ('power_trans', PowerTransformer(copy=True, method='yeo-johnson', standardize=True)), ('polynom_trans', PolynomialFeatures(degree=2, include_bias=True, interaction_only=False)), ('xgb_clf', XGBClassifier(base_score=0.5, booster...      reg_alpha=0, reg_lambda=1, scale_pos_weight=1, seed=None,\n",
      "       silent=True, subsample=0.8))])\n"
     ]
    }
   ],
   "source": [
    "from sklearn.preprocessing import PowerTransformer, StandardScaler, PolynomialFeatures\n",
    "from sklearn.pipeline import Pipeline\n",
    "# pip install xgboost\n",
    "import xgboost as xgb\n",
    "\n",
    "xgb_model = xgb.XGBClassifier(objective='binary:hinge',\n",
    "                             nthread=16,\n",
    "                             booster='gbtree',\n",
    "                             n_estimators=500,\n",
    "                             learning_rate=0.05,\n",
    "                             max_depth=9,\n",
    "                             subsample=0.8,\n",
    "                             colsample_bytree=0.8                          \n",
    ")\n",
    "\n",
    "pipe_clf = Pipeline([\n",
    "        ('sc',StandardScaler()),\n",
    "        ('power_trans',PowerTransformer()),\n",
    "        ('polynom_trans',PolynomialFeatures(degree=2)),\n",
    "        ('xgb_clf', xgb_model)\n",
    "        ])\n",
    "print(pipe_clf)"
   ]
  },
  {
   "cell_type": "markdown",
   "metadata": {},
   "source": [
    "## xgboost 模型参数讲解\n",
    "\n",
    "##### 通用参数：\n",
    "\n",
    "booster：默认gbtree\n",
    "\n",
    "- gbtree：基于树的模型\n",
    "- gbliner：线性模型\n",
    "\n",
    "nthread：最大线程数\n",
    "\n",
    "objective：任务类型\n",
    "\n",
    "- 回归任务：reg:squarederror\n",
    "\n",
    "- 二元分类任务：\n",
    "  - binary:logistic（输出概率）\n",
    "  - binary:hinge（输出分类结果）\n",
    "- 其他任务类型详解：https://xgboost.readthedocs.io/en/latest/parameter.html#learning-task-parameters\n",
    "\n",
    "##### 训练参数，以tree booster为例：\n",
    "\n",
    "n_estimators： 子学习器数量\n",
    "\n",
    "learning rate：训练步长\n",
    "\n",
    "max_depth：树最大深度\n",
    "\n",
    "max_leaf_nodes:树最大节点或叶子数量\n",
    "\n",
    "subsample：控制每棵树，训练样本比例\n",
    "\n",
    "colsample_bytree：控制每棵树，训练特征比例\n",
    "\n",
    "lambda：L2正则系数\n",
    "\n",
    "alpha：L1正则系数\n",
    "\n",
    "其他参数详解：https://xgboost.readthedocs.io/en/latest/python/python_api.html#module-xgboost.sklearn"
   ]
  },
  {
   "cell_type": "code",
   "execution_count": 113,
   "metadata": {},
   "outputs": [
    {
     "name": "stdout",
     "output_type": "stream",
     "text": [
      "accuracy score is: 0.9060758082497213\n",
      "precision score is: 0.900054914881933\n",
      "recall score is: 0.9136008918617614\n",
      "auc: 0.9060758082497213\n",
      "accuracy score is: 0.9066071926400893\n",
      "precision score is: 0.9028161236885699\n",
      "recall score is: 0.9113712374581939\n",
      "auc: 0.90660586412787\n",
      "accuracy score is: 0.9157836029001674\n",
      "precision score is: 0.9067103109656302\n",
      "recall score is: 0.9269380925822643\n",
      "auc: 0.9157836029001672\n",
      "accuracy score is: 0.9079754601226994\n",
      "precision score is: 0.8905499199145755\n",
      "recall score is: 0.9302844394868934\n",
      "auc: 0.9079754601226994\n",
      "accuracy score is: 0.9012827663134412\n",
      "precision score is: 0.9039865244244806\n",
      "recall score is: 0.8979364194088121\n",
      "auc: 0.9012827663134412\n",
      "-----------------------------------------------------\n",
      "average accuracy score is: 0.9075449660452237\n",
      "average precision is: 0.900823558775038\n",
      "average recall is: 0.9160262161595851\n",
      "average auc is: 0.9075447003427799\n"
     ]
    }
   ],
   "source": [
    "import warnings\n",
    "from sklearn.metrics import accuracy_score, precision_score, recall_score, roc_auc_score\n",
    "warnings.filterwarnings('ignore')\n",
    "acc = []\n",
    "precision = []\n",
    "recall = []\n",
    "auc = []\n",
    "for train_index, test_index in kf.split(x,y):  # 拆分\n",
    "    x_traincv, x_testcv = x.loc[train_index], x.loc[test_index]\n",
    "    y_traincv, y_testcv = y.loc[train_index], y.loc[test_index]\n",
    "    pipe_clf.fit(x_traincv, y_traincv)  # 训练\n",
    "    y_predictcv = pipe_clf.predict(x_testcv)  # 预测\n",
    "    k_acc = accuracy_score(y_testcv,y_predictcv)\n",
    "    print(f'accuracy score is: {k_acc}')\n",
    "    acc.append(k_acc)\n",
    "    k_precision = precision_score(y_testcv,y_predictcv)\n",
    "    print(f'precision score is: {k_precision}')\n",
    "    precision.append(k_precision)\n",
    "    k_recall = recall_score(y_testcv,y_predictcv)\n",
    "    print(f'recall score is: {k_recall}')\n",
    "    recall.append(k_recall)\n",
    "    k_auc = roc_auc_score(y_testcv,y_predictcv)\n",
    "    print(f'auc: {k_auc}')\n",
    "    auc.append(k_auc)\n",
    "import numpy as np\n",
    "print(f'-----------------------------------------------------')\n",
    "print(f'average accuracy score is: {np.array(acc).mean()}')\n",
    "print(f'average precision is: {np.array(precision).mean()}')\n",
    "print(f'average recall is: {np.array(recall).mean()}')\n",
    "print(f'average auc is: {np.array(auc).mean()}')"
   ]
  },
  {
   "cell_type": "code",
   "execution_count": null,
   "metadata": {},
   "outputs": [],
   "source": []
  }
 ],
 "metadata": {
  "kernelspec": {
   "display_name": "Python 3",
   "language": "python",
   "name": "python3"
  },
  "language_info": {
   "codemirror_mode": {
    "name": "ipython",
    "version": 3
   },
   "file_extension": ".py",
   "mimetype": "text/x-python",
   "name": "python",
   "nbconvert_exporter": "python",
   "pygments_lexer": "ipython3",
   "version": "3.7.6"
  }
 },
 "nbformat": 4,
 "nbformat_minor": 2
}
