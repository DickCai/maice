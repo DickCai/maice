{
 "cells": [
  {
   "cell_type": "markdown",
   "metadata": {},
   "source": [
    "# 数据预处理：预处理、标准化、纠偏\n",
    "\n",
    "### 1. 预处理\n",
    "\n",
    "#### 缺失值：样本的部分特征信息缺失\n",
    "\n",
    "处理方式：\n",
    "\n",
    "* 删除：缺失样本量非常大，删除整个变量，如果缺失量较少，且难以填充则删除缺失样本\n",
    "\n",
    "* 填充：缺失量小于10%，根据缺失变量的数据分布采取均值或中位数进行填充\n",
    "\n",
    "* 预测缺失样本：使用与缺失相比相关性非常高的特征，建立模型，预测缺失值"
   ]
  },
  {
   "cell_type": "code",
   "execution_count": 20,
   "metadata": {},
   "outputs": [
    {
     "name": "stdout",
     "output_type": "stream",
     "text": [
      "(1000, 10)\n",
      "id                 int64\n",
      "complete_year     object\n",
      "average_price    float64\n",
      "area             float64\n",
      "daypop           float64\n",
      "nightpop         float64\n",
      "night20-39       float64\n",
      "sub_kde          float64\n",
      "bus_kde          float64\n",
      "kind_kde         float64\n",
      "dtype: object\n",
      "             id complete_year  average_price   area       daypop     nightpop  \\\n",
      "0  107002240411            未知        18293.0  16.40   287.500171   257.174324   \n",
      "1  107000909879          2008        33464.0  25.70   119.127998   150.060287   \n",
      "2  107002211403            未知        39604.0  26.21   299.177118   329.367190   \n",
      "3  107000908575          1996        38766.0  26.57   119.127998   150.060287   \n",
      "4  107000865411            未知        42736.0  26.91  1111.427847  1581.441118   \n",
      "\n",
      "   night20-39       sub_kde   bus_kde      kind_kde  \n",
      "0   97.552069  2.021857e-34  0.178319  3.074832e-01  \n",
      "1   53.842050  5.241426e-11  0.279422  7.210007e-11  \n",
      "2  106.831461  7.010102e-11  0.307816  8.095858e-11  \n",
      "3   53.842050  5.241426e-11  0.279422  7.210007e-11  \n",
      "4  547.249775  1.319653e-11  0.254367  4.632641e-01  \n"
     ]
    }
   ],
   "source": [
    "# 数据预处理演示\n",
    "import pandas as pd\n",
    "import matplotlib.pyplot as plt\n",
    "# 样例数据读取\n",
    "df = pd.read_excel('realestate_sample.xlsx')\n",
    "# 数据集基本情况查看\n",
    "print(df.shape)\n",
    "print(df.dtypes)\n",
    "print(df.head())"
   ]
  },
  {
   "cell_type": "code",
   "execution_count": 21,
   "metadata": {},
   "outputs": [
    {
     "name": "stdout",
     "output_type": "stream",
     "text": [
      "id                0\n",
      "complete_year     0\n",
      "average_price    11\n",
      "area              8\n",
      "daypop            0\n",
      "nightpop         12\n",
      "night20-39        0\n",
      "sub_kde           0\n",
      "bus_kde           0\n",
      "kind_kde          0\n",
      "dtype: int64\n"
     ]
    }
   ],
   "source": [
    "# 缺失值处理\n",
    "# 查看数据样本中的缺失情况\n",
    "print(df.isnull().sum())"
   ]
  },
  {
   "cell_type": "code",
   "execution_count": 22,
   "metadata": {},
   "outputs": [
    {
     "data": {
      "image/png": "[encoded data removed]",
      "text/plain": [
       "<Figure size 432x288 with 1 Axes>"
      ]
     },
     "metadata": {
      "needs_background": "light"
     },
     "output_type": "display_data"
    }
   ],
   "source": [
    "# 逐一查看特征，进行缺失值填充\n",
    "# 查看房价\n",
    "df['average_price'].hist()\n",
    "plt.show()"
   ]
  },
  {
   "cell_type": "code",
   "execution_count": 23,
   "metadata": {},
   "outputs": [
    {
     "name": "stdout",
     "output_type": "stream",
     "text": [
      "29629.326592517693\n",
      "id                0\n",
      "complete_year     0\n",
      "average_price     0\n",
      "area              8\n",
      "daypop            0\n",
      "nightpop         12\n",
      "night20-39        0\n",
      "sub_kde           0\n",
      "bus_kde           0\n",
      "kind_kde          0\n",
      "dtype: int64\n"
     ]
    }
   ],
   "source": [
    "# 选择均值填充\n",
    "price_mean = df['average_price'].mean()\n",
    "print(price_mean)\n",
    "# 使用均值进行缺失值填充\n",
    "df.loc[df['average_price'].isna(),'average_price'] = price_mean\n",
    "print(df.isnull().sum())"
   ]
  },
  {
   "cell_type": "code",
   "execution_count": 24,
   "metadata": {},
   "outputs": [
    {
     "data": {
      "image/png": "[encoded data removed]",
      "text/plain": [
       "<Figure size 432x288 with 1 Axes>"
      ]
     },
     "metadata": {
      "needs_background": "light"
     },
     "output_type": "display_data"
    }
   ],
   "source": [
    "df['area'].hist()\n",
    "plt.show()"
   ]
  },
  {
   "cell_type": "code",
   "execution_count": 25,
   "metadata": {},
   "outputs": [
    {
     "name": "stdout",
     "output_type": "stream",
     "text": [
      "79.8\n",
      "id                0\n",
      "complete_year     0\n",
      "average_price     0\n",
      "area              0\n",
      "daypop            0\n",
      "nightpop         12\n",
      "night20-39        0\n",
      "sub_kde           0\n",
      "bus_kde           0\n",
      "kind_kde          0\n",
      "dtype: int64\n"
     ]
    }
   ],
   "source": [
    "# 选择中位数填充\n",
    "area_median = df['area'].median()\n",
    "print(area_median)\n",
    "# 使用均值进行缺失值填充\n",
    "df.loc[df['area'].isna(),'area'] = area_median\n",
    "print(df.isnull().sum())"
   ]
  },
  {
   "cell_type": "code",
   "execution_count": 26,
   "metadata": {},
   "outputs": [
    {
     "name": "stdout",
     "output_type": "stream",
     "text": [
      "              daypop  nightpop  night20-39\n",
      "daypop      1.000000  0.949165    0.938495\n",
      "nightpop    0.949165  1.000000    0.983803\n",
      "night20-39  0.938495  0.983803    1.000000\n"
     ]
    }
   ],
   "source": [
    "# 查看相关性系数\n",
    "print(df[['daypop','nightpop','night20-39']].corr())"
   ]
  },
  {
   "cell_type": "code",
   "execution_count": 27,
   "metadata": {},
   "outputs": [
    {
     "name": "stdout",
     "output_type": "stream",
     "text": [
      "R squared is: 0.878354472726492\n"
     ]
    }
   ],
   "source": [
    "# 训练线性回归模型对夜间人口进行填补\n",
    "from sklearn.linear_model import LinearRegression\n",
    "from sklearn.metrics import r2_score\n",
    "train = df.copy().loc[~df['nightpop'].isna(),['daypop','nightpop']].reset_index(drop=True)\n",
    "x = train[['daypop']]\n",
    "y = train[['nightpop']]\n",
    "model = LinearRegression()\n",
    "model.fit(x,y)\n",
    "print(f'R squared is: {r2_score(y, x)}')"
   ]
  },
  {
   "cell_type": "code",
   "execution_count": 28,
   "metadata": {},
   "outputs": [
    {
     "name": "stdout",
     "output_type": "stream",
     "text": [
      "id               0\n",
      "complete_year    0\n",
      "average_price    0\n",
      "area             0\n",
      "daypop           0\n",
      "nightpop         0\n",
      "night20-39       0\n",
      "sub_kde          0\n",
      "bus_kde          0\n",
      "kind_kde         0\n",
      "dtype: int64\n"
     ]
    }
   ],
   "source": [
    "# 对缺失值进行填充\n",
    "df.loc[df['nightpop'].isna(),['nightpop']] = model.predict(df.loc[df['nightpop'].isna(),['daypop']])\n",
    "print(df.isnull().sum())"
   ]
  },
  {
   "cell_type": "code",
   "execution_count": 29,
   "metadata": {},
   "outputs": [
    {
     "name": "stdout",
     "output_type": "stream",
     "text": [
      "未知      102\n",
      "2006     83\n",
      "1994     56\n",
      "2005     54\n",
      "1995     53\n",
      "2009     51\n",
      "1996     50\n",
      "2010     43\n",
      "2008     40\n",
      "2012     39\n",
      "1997     36\n",
      "2014     36\n",
      "2011     35\n",
      "1998     35\n",
      "1993     29\n",
      "2015     26\n",
      "1999     24\n",
      "2003     23\n",
      "2004     20\n",
      "2013     19\n",
      "2007     17\n",
      "1985     13\n",
      "1986     13\n",
      "1983     12\n",
      "1982     12\n",
      "1987     10\n",
      "2000      9\n",
      "2002      8\n",
      "1990      7\n",
      "1984      7\n",
      "1981      7\n",
      "1992      6\n",
      "1988      6\n",
      "1989      5\n",
      "1980      4\n",
      "2001      4\n",
      "1991      2\n",
      "1978      1\n",
      "2016      1\n",
      "1979      1\n",
      "1970      1\n",
      "Name: complete_year, dtype: int64\n"
     ]
    }
   ],
   "source": [
    "# 特殊类型的缺失值\n",
    "print(df.complete_year.value_counts())"
   ]
  },
  {
   "cell_type": "code",
   "execution_count": 30,
   "metadata": {},
   "outputs": [],
   "source": [
    "# 做切片删除缺失房龄的样本\n",
    "df = df[df.complete_year!='未知'].reset_index(drop=True)"
   ]
  },
  {
   "cell_type": "markdown",
   "metadata": {},
   "source": [
    "#### 离群值：远离数据主要部分的样本（极大值或极小值）\n",
    "\n",
    "处理方式：\n",
    "\n",
    "* 删除：直接删除离群样本\n",
    "\n",
    "* 填充样本：使用box-plot定义变量的数值上下界，以上界填充极大值，以下界填充最小值"
   ]
  },
  {
   "cell_type": "code",
   "execution_count": 31,
   "metadata": {},
   "outputs": [
    {
     "data": {
      "image/png": "[encoded data removed]",
      "text/plain": [
       "<Figure size 432x288 with 1 Axes>"
      ]
     },
     "metadata": {
      "needs_background": "light"
     },
     "output_type": "display_data"
    },
    {
     "data": {
      "image/png": "[encoded data removed]",
      "text/plain": [
       "<Figure size 432x288 with 1 Axes>"
      ]
     },
     "metadata": {
      "needs_background": "light"
     },
     "output_type": "display_data"
    }
   ],
   "source": [
    "# 查看房价的离群情况\n",
    "df['average_price'].hist()\n",
    "plt.show()\n",
    "df[['average_price']].boxplot()\n",
    "plt.show()"
   ]
  },
  {
   "cell_type": "code",
   "execution_count": 32,
   "metadata": {},
   "outputs": [
    {
     "data": {
      "image/png": "[encoded data removed]",
      "text/plain": [
       "<Figure size 432x288 with 1 Axes>"
      ]
     },
     "metadata": {
      "needs_background": "light"
     },
     "output_type": "display_data"
    }
   ],
   "source": [
    "# 根据箱线图的上下限进行异常值的填充\n",
    "def boxplot_fill(col):\n",
    "    # 计算iqr：数据四分之三分位值与四分之一分位值的差\n",
    "    iqr = col.quantile(0.75)-col.quantile(0.25)\n",
    "    # 根据iqr计算异常值判断阈值\n",
    "    u_th = col.quantile(0.75) + 1.5*iqr # 上界\n",
    "    l_th = col.quantile(0.25) - 1.5*iqr # 下界\n",
    "    # 定义转换函数：如果数字大于上界则用上界值填充，小于下界则用下界值填充。\n",
    "    def box_trans(x):\n",
    "        if x > u_th:\n",
    "            return u_th\n",
    "        elif x < l_th:\n",
    "            return l_th\n",
    "        else:\n",
    "            return x\n",
    "    return col.map(box_trans)\n",
    "# 填充效果查看\n",
    "boxplot_fill(df['average_price']).hist()\n",
    "# 进行赋值\n",
    "df['average_price'] = boxplot_fill(df['average_price'])\n",
    "plt.show()"
   ]
  },
  {
   "cell_type": "code",
   "execution_count": 33,
   "metadata": {},
   "outputs": [],
   "source": [
    "df.to_excel('realestate_sample_preprocessed.xlsx',index=False)"
   ]
  },
  {
   "cell_type": "markdown",
   "metadata": {},
   "source": [
    "### 2. 标准化\n",
    "\n",
    "#### 标准化目的：\n",
    "\n",
    "- 去除数据量纲的影响\n",
    "\n",
    "- 提高模型的解释性\n",
    "- 加快模型收敛速度\n",
    "\n",
    "#### 标准化的方法：\n",
    "\n",
    "- 中心化：减去均值再除以标准差\n",
    "- 01标准化：减去最小值再除以最大值与最小值的差"
   ]
  },
  {
   "cell_type": "code",
   "execution_count": 34,
   "metadata": {},
   "outputs": [
    {
     "data": {
      "image/png": "[encoded data removed]",
      "text/plain": [
       "<Figure size 432x288 with 1 Axes>"
      ]
     },
     "metadata": {
      "needs_background": "light"
     },
     "output_type": "display_data"
    },
    {
     "data": {
      "image/png": "[encoded data removed]",
      "text/plain": [
       "<Figure size 432x288 with 1 Axes>"
      ]
     },
     "metadata": {
      "needs_background": "light"
     },
     "output_type": "display_data"
    }
   ],
   "source": [
    "# sklearn 中标准化的方法\n",
    "from sklearn.preprocessing import StandardScaler\n",
    "from sklearn.preprocessing import MinMaxScaler\n",
    "# 以中心化为例讲解sklearn中标准化的使用方法\n",
    "scaler = StandardScaler()\n",
    "df['daypop'].hist()\n",
    "plt.show()\n",
    "trans_data = df.copy()[['daypop']]\n",
    "scaler.fit(trans_data)\n",
    "trans_data['daypop'] = scaler.transform(trans_data)\n",
    "trans_data['daypop'].hist()\n",
    "plt.show()"
   ]
  },
  {
   "cell_type": "code",
   "execution_count": 35,
   "metadata": {},
   "outputs": [
    {
     "name": "stdout",
     "output_type": "stream",
     "text": [
      "Pipeline(memory=None,\n",
      "     steps=[('sc', StandardScaler(copy=True, with_mean=True, with_std=True)), ('lm_regr', LinearRegression(copy_X=True, fit_intercept=True, n_jobs=None,\n",
      "         normalize=False))])\n"
     ]
    }
   ],
   "source": [
    "# 使用pipeline整合数据标准化与模型\n",
    "from sklearn.linear_model import LinearRegression\n",
    "from sklearn.preprocessing import StandardScaler\n",
    "from sklearn.pipeline import Pipeline\n",
    "# 构建模型工作流\n",
    "pipe_lm = Pipeline([\n",
    "        ('sc',StandardScaler()),\n",
    "        ('lm_regr',LinearRegression())\n",
    "        ])\n",
    "print(pipe_lm)"
   ]
  },
  {
   "cell_type": "markdown",
   "metadata": {},
   "source": [
    "### 3. 纠偏\n",
    "\n",
    "- 正态分布：数据呈现对称的钟形分布\n",
    "\n",
    "- 右偏态：样本大量集中在均值左边（均值偏到了右边）\n",
    "\n",
    "- 左偏态：样本大量集中在均值右边（均值偏到了左边）\n",
    "\n",
    "处理方法：\n",
    "\n",
    "- 右偏态：常用对数函数处理\n",
    "\n",
    "- 左偏态：常用指数函数处理\n",
    "\n",
    "通用变换方法：以降低数据的偏态系数为目标，使得数据分布更加接近正太分布的变换方法\n",
    "\n",
    "- yeo-johnson 变换：可以处理包含正数、负数和零的变量\n",
    "\n",
    "- box-cox变换：只能处理数值皆为正数的变量"
   ]
  },
  {
   "cell_type": "code",
   "execution_count": 19,
   "metadata": {},
   "outputs": [
    {
     "name": "stdout",
     "output_type": "stream",
     "text": [
      "Pipeline(memory=None,\n",
      "     steps=[('sc', StandardScaler(copy=True, with_mean=True, with_std=True)), ('pow_trans', PowerTransformer(copy=True, method='yeo-johnson', standardize=True)), ('lm_regr', LinearRegression(copy_X=True, fit_intercept=True, n_jobs=None,\n",
      "         normalize=False))])\n"
     ]
    }
   ],
   "source": [
    "# sklearn 中纠偏的方法\n",
    "from sklearn.preprocessing import PowerTransformer\n",
    "# 参数讲解\n",
    "# method = 'yeo-johnson' or 'box-cox’\n",
    "# 使用pipeline进行纠偏过程的整合\n",
    "from sklearn.linear_model import LinearRegression\n",
    "from sklearn.pipeline import Pipeline\n",
    "# 构建模型工作流\n",
    "pipe_lm = Pipeline([\n",
    "        ('sc',StandardScaler()),\n",
    "        ('pow_trans',PowerTransformer(method='yeo-johnson')),\n",
    "        ('lm_regr',LinearRegression())\n",
    "        ])\n",
    "print(pipe_lm)"
   ]
  },
  {
   "cell_type": "code",
   "execution_count": null,
   "metadata": {},
   "outputs": [],
   "source": []
  },
  {
   "cell_type": "markdown",
   "metadata": {},
   "source": [
    "## 谢谢大家观看"
   ]
  },
  {
   "cell_type": "code",
   "execution_count": null,
   "metadata": {},
   "outputs": [],
   "source": []
  }
 ],
 "metadata": {
  "kernelspec": {
   "display_name": "Python 3",
   "language": "python",
   "name": "python3"
  },
  "language_info": {
   "codemirror_mode": {
    "name": "ipython",
    "version": 3
   },
   "file_extension": ".py",
   "mimetype": "text/x-python",
   "name": "python",
   "nbconvert_exporter": "python",
   "pygments_lexer": "ipython3",
   "version": "3.7.6"
  }
 },
 "nbformat": 4,
 "nbformat_minor": 2
}
