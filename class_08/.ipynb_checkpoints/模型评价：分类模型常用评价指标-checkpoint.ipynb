{
 "cells": [
  {
   "cell_type": "markdown",
   "metadata": {},
   "source": [
    "# 模型评价：分类模型的常用评价指标\n",
    "\n",
    "#### 基本指标：误差率\n",
    "\n",
    "指标解释：错分类样本占总样本的比例\n",
    "\n",
    "#### 基本指标：准确率\n",
    "\n",
    "指标解释：正确分类样本占总样本的比例\n",
    "\n",
    "指标解读：准确率越接近1，模型越准确\n",
    "\n",
    "#### 混淆矩阵\n",
    "\n",
    "| 真实情况 | 预测：正例   | 预测：反例   |\n",
    "| -------- | ------------ | ------------ |\n",
    "| 正例     | TP（真正例） | FN（假反例） |\n",
    "| 反例     | FP（假正例） | TN（真反例） |\n",
    "\n",
    "#### 衍生指标：查准率（precision）\n",
    "\n",
    "指标解释：所有真正例占所有预测为正的样本的比例\n",
    "\n",
    "指标举例：在商品推荐的过程中，我们会关心所有推荐给用户的商品（预测为正）中有多少是客户真正喜欢的（真正例）\n",
    "\n",
    "#### 衍生指标：查全率（recall）\n",
    "\n",
    "指标解释：所有真正例占所有真实为正的样本的比例\n",
    "\n",
    "指标举例：在银行用户风险识别中，我们会关心，所有有风险的用户，有多少能被我们的模型识别出来\n",
    "\n",
    "#### 其他指标：ROC曲线与AUC值\n",
    "\n",
    "ROC曲线：以真正例比率为纵轴、假正例率为横轴，采用不同的截断点，来绘制ROC曲线\n",
    "\n",
    "AUC值：ROC曲线与坐标轴构成的图形面积\n",
    "\n",
    "指标解读：auc指标越接近1，则代表模型准确率越高，auc值等于0.5，代表模型准确率与随机猜测准确率一致，auc值小于0.5：模型效果不如随机猜测"
   ]
  },
  {
   "cell_type": "code",
   "execution_count": null,
   "metadata": {},
   "outputs": [],
   "source": [
    "# 使用sklearn查看回归模型的各项指标\n",
    "import pandas as pd\n",
    "import matplotlib.pyplot as plt\n",
    "# 样例数据读取\n",
    "df = pd.read_excel('realestate_sample_preprocessed.xlsx')\n",
    "# 根据共线性矩阵，保留与房价相关性最高的日间人口，将夜间人口和20-39岁夜间人口进行比例处理\n",
    "def age_percent(row):\n",
    "    if row['nightpop'] == 0:\n",
    "        return 0\n",
    "    else:\n",
    "        return row['night20-39']/row['nightpop']\n",
    "df['per_a20_39'] = df.apply(age_percent,axis=1)\n",
    "df = df.drop(columns=['nightpop','night20-39'])\n",
    "# 制作标签变量\n",
    "price_median = df['average_price'].median()\n",
    "print(price_median)\n",
    "df['is_high'] = df['average_price'].map(lambda x: True if x>= price_median else False)\n",
    "print(df['is_high'].value_counts())\n",
    "# 数据集基本情况查看\n",
    "print(df.shape)\n",
    "print(df.dtypes)\n",
    "print(df.isnull().sum())"
   ]
  },
  {
   "cell_type": "code",
   "execution_count": null,
   "metadata": {},
   "outputs": [],
   "source": [
    "# 划分数据集\n",
    "x = df[['complete_year','area', 'daypop', 'sub_kde',\n",
    "       'bus_kde', 'kind_kde','per_a20_39']]\n",
    "y = df['is_high']\n",
    "print(x.shape)\n",
    "print(y.shape)"
   ]
  },
  {
   "cell_type": "code",
   "execution_count": null,
   "metadata": {},
   "outputs": [],
   "source": [
    "# 建立分类模型\n",
    "# 使用pipeline整合数据处理、特征筛选与模型\n",
    "import numpy as np\n",
    "from sklearn.linear_model import LogisticRegression\n",
    "from sklearn.model_selection import KFold\n",
    "from sklearn.preprocessing import StandardScaler, PowerTransformer\n",
    "from sklearn.preprocessing import PolynomialFeatures\n",
    "from sklearn.pipeline import Pipeline\n",
    "# 构建模型工作流\n",
    "pipe_clf = Pipeline([\n",
    "        ('sc',StandardScaler()),\n",
    "        ('power_trans',PowerTransformer()),\n",
    "        ('polynom_trans',PolynomialFeatures(degree=3)),\n",
    "        ('lgostic_clf', LogisticRegression(penalty='l1', fit_intercept=True, solver='liblinear'))\n",
    "        ])\n",
    "print(pipe_clf)"
   ]
  },
  {
   "cell_type": "code",
   "execution_count": null,
   "metadata": {},
   "outputs": [],
   "source": [
    "# 查看模型表现\n",
    "import warnings\n",
    "from sklearn.metrics import accuracy_score, precision_score, recall_score, roc_auc_score\n",
    "warnings.filterwarnings('ignore')\n",
    "pipe_clf.fit(x,y)\n",
    "y_predict = pipe_clf.predict(x)\n",
    "print(f'accuracy score is: {accuracy_score(y,y_predict)}')\n",
    "print(f'precision score is: {precision_score(y,y_predict)}')\n",
    "print(f'recall score is: {recall_score(y,y_predict)}')\n",
    "print(f'auc: {roc_auc_score(y,y_predict)}')"
   ]
  },
  {
   "cell_type": "markdown",
   "metadata": {},
   "source": [
    "## 谢谢大家观看"
   ]
  },
  {
   "cell_type": "code",
   "execution_count": null,
   "metadata": {},
   "outputs": [],
   "source": []
  }
 ],
 "metadata": {
  "kernelspec": {
   "display_name": "Python 3 (ipykernel)",
   "language": "python",
   "name": "python3"
  },
  "language_info": {
   "codemirror_mode": {
    "name": "ipython",
    "version": 3
   },
   "file_extension": ".py",
   "mimetype": "text/x-python",
   "name": "python",
   "nbconvert_exporter": "python",
   "pygments_lexer": "ipython3",
   "version": "3.7.11"
  },
  "toc": {
   "base_numbering": 1,
   "nav_menu": {},
   "number_sections": true,
   "sideBar": true,
   "skip_h1_title": false,
   "title_cell": "Table of Contents",
   "title_sidebar": "Contents",
   "toc_cell": false,
   "toc_position": {},
   "toc_section_display": true,
   "toc_window_display": false
  }
 },
 "nbformat": 4,
 "nbformat_minor": 2
}
