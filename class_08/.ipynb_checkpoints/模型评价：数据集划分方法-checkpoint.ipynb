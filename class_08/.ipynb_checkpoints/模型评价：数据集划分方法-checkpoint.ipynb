{
 "cells": [
  {
   "cell_type": "markdown",
   "metadata": {},
   "source": [
    "# 模型评价：数据集划分方法\n",
    "\n",
    "#### 划分基本准则：保持训练集和验证集之间的互斥性\n",
    "\n",
    "准则解释：测试样本尽量不在训练样本中出现，以保证验证集上的表现能代表模型的泛化能力\n",
    "\n",
    "#### 留出法：\n",
    "\n",
    "直接将数据集划分成两个互斥的集合，其中一个做训练集，一个做验证集\n",
    "\n",
    "常用划分比例：7:3、7.5:2.5、8:2\n",
    "\n",
    "#### 交叉验证法（cv）\n",
    "\n",
    "将数据集划分为k个大小相似的互斥子集，每一次以k-1个子集做训练，1个子集做验证，训练k次，最终返回的是k次训练结果的均值，因此交叉验证法又称为k折交叉法（k-fold）"
   ]
  },
  {
   "cell_type": "code",
   "execution_count": 29,
   "metadata": {},
   "outputs": [
    {
     "name": "stdout",
     "output_type": "stream",
     "text": [
      "(898, 9)\n",
      "id                 int64\n",
      "complete_year      int64\n",
      "average_price    float64\n",
      "area             float64\n",
      "daypop           float64\n",
      "sub_kde          float64\n",
      "bus_kde          float64\n",
      "kind_kde         float64\n",
      "per_a20_39       float64\n",
      "dtype: object\n",
      "id               0\n",
      "complete_year    0\n",
      "average_price    0\n",
      "area             0\n",
      "daypop           0\n",
      "sub_kde          0\n",
      "bus_kde          0\n",
      "kind_kde         0\n",
      "per_a20_39       0\n",
      "dtype: int64\n"
     ]
    }
   ],
   "source": [
    "# 基本数据读取\n",
    "import pandas as pd\n",
    "import matplotlib.pyplot as plt\n",
    "# 样例数据读取\n",
    "df = pd.read_excel('realestate_sample_preprocessed.xlsx')\n",
    "# 根据共线性矩阵，保留与房价相关性最高的日间人口，将夜间人口和20-39岁夜间人口进行比例处理\n",
    "def age_percent(row):\n",
    "    if row['nightpop'] == 0:\n",
    "        return 0\n",
    "    else:\n",
    "        return row['night20-39']/row['nightpop']\n",
    "df['per_a20_39'] = df.apply(age_percent,axis=1)\n",
    "df = df.drop(columns=['nightpop','night20-39'])\n",
    "# 数据集基本情况查看\n",
    "print(df.shape)\n",
    "print(df.dtypes)\n",
    "print(df.isnull().sum())"
   ]
  },
  {
   "cell_type": "code",
   "execution_count": 30,
   "metadata": {},
   "outputs": [
    {
     "name": "stdout",
     "output_type": "stream",
     "text": [
      "Pipeline(memory=None,\n",
      "     steps=[('sc', StandardScaler(copy=True, with_mean=True, with_std=True)), ('power_trans', PowerTransformer(copy=True, method='yeo-johnson', standardize=True)), ('polynom_trans', PolynomialFeatures(degree=3, include_bias=True, interaction_only=False)), ('lasso_regr', LassoCV(alphas=[80, 90], copy_X=Tr...ve=False, precompute='auto', random_state=None,\n",
      "    selection='cyclic', tol=0.0001, verbose=False))])\n"
     ]
    }
   ],
   "source": [
    "# 构建模型\n",
    "import numpy as np\n",
    "from sklearn.linear_model import LinearRegression, LassoCV\n",
    "from sklearn.model_selection import KFold\n",
    "from sklearn.preprocessing import StandardScaler, PowerTransformer\n",
    "from sklearn.preprocessing import PolynomialFeatures\n",
    "from sklearn.pipeline import Pipeline\n",
    "# 构建模型工作流\n",
    "pipe_lm = Pipeline([\n",
    "        ('sc',StandardScaler()),\n",
    "        ('power_trans',PowerTransformer()),\n",
    "        ('polynom_trans',PolynomialFeatures(degree=3)),\n",
    "        ('lasso_regr', LassoCV(alphas=(\n",
    "                list(np.arange(8, 10) * 10)\n",
    "            ),\n",
    "    cv=KFold(n_splits=3, shuffle=True),\n",
    "    n_jobs=-1))\n",
    "        ])\n",
    "print(pipe_lm)"
   ]
  },
  {
   "cell_type": "code",
   "execution_count": 31,
   "metadata": {},
   "outputs": [
    {
     "name": "stdout",
     "output_type": "stream",
     "text": [
      "the shape of training set is: (673, 9)\n",
      "the shape of testing set is: (225, 9)\n"
     ]
    }
   ],
   "source": [
    "# 留出法进行数据集划分\n",
    "# 载入sklearn中数据集划分的方法\n",
    "from sklearn.model_selection import train_test_split\n",
    "# 将数据集划分成训练集和验证集：划分比例0.75训练，0.25验证\n",
    "training, testing = train_test_split(df,test_size=0.25, random_state=1)\n",
    "# 提取训练集中的x与y\n",
    "x_train = training.copy()[['complete_year','area', 'daypop', 'sub_kde',\n",
    "       'bus_kde', 'kind_kde','per_a20_39']]\n",
    "y_train = training.copy()['average_price']\n",
    "# 提取验证集中的x与y\n",
    "x_test = testing.copy()[['complete_year','area', 'daypop', 'sub_kde',\n",
    "       'bus_kde', 'kind_kde','per_a20_39']]\n",
    "y_test = testing.copy()['average_price']\n",
    "print(f'the shape of training set is: {training.shape}')\n",
    "print(f'the shape of testing set is: {testing.shape}')"
   ]
  },
  {
   "cell_type": "code",
   "execution_count": 32,
   "metadata": {},
   "outputs": [
    {
     "name": "stdout",
     "output_type": "stream",
     "text": [
      "mean squared error is: 37631800.27942381\n",
      "mean absolute error is: 4385.844228977758\n",
      "R Squared is: 0.57602148623751\n"
     ]
    }
   ],
   "source": [
    "# 查看留出法验证集上模型的表现\n",
    "import warnings\n",
    "from sklearn.metrics import mean_squared_error, mean_absolute_error, r2_score\n",
    "warnings.filterwarnings('ignore')\n",
    "pipe_lm.fit(x_train,y_train)\n",
    "y_predict = pipe_lm.predict(x_test)\n",
    "print(f'mean squared error is: {mean_squared_error(y_test,y_predict)}')\n",
    "print(f'mean absolute error is: {mean_absolute_error(y_test,y_predict)}')\n",
    "print(f'R Squared is: {r2_score(y_test,y_predict)}')"
   ]
  },
  {
   "cell_type": "code",
   "execution_count": null,
   "metadata": {},
   "outputs": [],
   "source": [
    "# 交叉验证法进行数据集划分\n",
    "from sklearn.model_selection import KFold\n",
    "x = df[['complete_year','area', 'daypop', 'sub_kde',\n",
    "       'bus_kde', 'kind_kde','per_a20_39']]\n",
    "y = df['average_price']\n",
    "k = 10\n",
    "kf = KFold(n_splits=k, shuffle=True)"
   ]
  },
  {
   "cell_type": "code",
   "execution_count": 33,
   "metadata": {},
   "outputs": [
    {
     "name": "stdout",
     "output_type": "stream",
     "text": [
      "mean squared error is: 35343529.48829773\n",
      "mean absolute error is: 4440.496229506002\n",
      "R Squared is: 0.624576918867833\n",
      "mean squared error is: 37183112.59906151\n",
      "mean absolute error is: 4298.302676162478\n",
      "R Squared is: 0.4024228305339529\n",
      "mean squared error is: 49452327.64452156\n",
      "mean absolute error is: 4993.620904192527\n",
      "R Squared is: 0.5383265602659288\n",
      "mean squared error is: 29010157.909958623\n",
      "mean absolute error is: 3687.2699912256844\n",
      "R Squared is: 0.6556250793164027\n",
      "mean squared error is: 30181604.83441743\n",
      "mean absolute error is: 3927.2142567288797\n",
      "R Squared is: 0.6662200142470954\n",
      "mean squared error is: 42522602.850770354\n",
      "mean absolute error is: 4669.897100062009\n",
      "R Squared is: 0.5356679506743394\n",
      "mean squared error is: 22961161.757603135\n",
      "mean absolute error is: 3689.4269032828956\n",
      "R Squared is: 0.6816637313881144\n",
      "mean squared error is: 31222683.601054277\n",
      "mean absolute error is: 4050.6438241341784\n",
      "R Squared is: 0.5963288876075987\n",
      "mean squared error is: 33605097.50118247\n",
      "mean absolute error is: 4010.1112345397646\n",
      "R Squared is: 0.6063299885589793\n",
      "mean squared error is: 39588616.635688566\n",
      "mean absolute error is: 4658.753571331614\n",
      "R Squared is: 0.42213314485611453\n"
     ]
    }
   ],
   "source": [
    "# 查看交叉验证法模型表现\n",
    "mse = []\n",
    "mae = []\n",
    "r_s2 = []\n",
    "for train_index, test_index in kf.split(df):  # 拆分\n",
    "    x_traincv, x_testcv = x.loc[train_index], x.loc[test_index]\n",
    "    y_traincv, y_testcv = y.loc[train_index], y.loc[test_index]\n",
    "    pipe_lm.fit(x_traincv, y_traincv)  # 训练\n",
    "    y_predictcv = pipe_lm.predict(x_testcv)  # 预测\n",
    "    k_mse = mean_squared_error(y_testcv, y_predictcv)\n",
    "    mse.append(k_mse)\n",
    "    print(f'mean squared error is: {k_mse}')\n",
    "    k_mae = mean_absolute_error(y_testcv, y_predictcv)\n",
    "    mae.append(k_mae)\n",
    "    print(f'mean absolute error is: {k_mae}')\n",
    "    k_r_s2 = r2_score(y_testcv, y_predictcv)\n",
    "    r_s2.append(k_r_s2)\n",
    "    print(f'R Squared is: {k_r_s2}')"
   ]
  },
  {
   "cell_type": "code",
   "execution_count": 34,
   "metadata": {},
   "outputs": [
    {
     "name": "stdout",
     "output_type": "stream",
     "text": [
      "mean squared error is: 35107089.48225556\n",
      "mean absolute error is: 4242.573669116604\n",
      "R Squared is: 0.5729295106316359\n"
     ]
    }
   ],
   "source": [
    "import numpy as np\n",
    "print(f'mean squared error is: {np.array(mse).mean()}')\n",
    "print(f'mean absolute error is: {np.array(mae).mean()}')\n",
    "print(f'R Squared is: {np.array(r_s2).mean()}')"
   ]
  },
  {
   "cell_type": "code",
   "execution_count": null,
   "metadata": {},
   "outputs": [],
   "source": []
  }
 ],
 "metadata": {
  "kernelspec": {
   "display_name": "Python 3",
   "language": "python",
   "name": "python3"
  },
  "language_info": {
   "codemirror_mode": {
    "name": "ipython",
    "version": 3
   },
   "file_extension": ".py",
   "mimetype": "text/x-python",
   "name": "python",
   "nbconvert_exporter": "python",
   "pygments_lexer": "ipython3",
   "version": "3.7.6"
  }
 },
 "nbformat": 4,
 "nbformat_minor": 2
}
