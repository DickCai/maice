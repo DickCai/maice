{
 "cells": [
  {
   "cell_type": "markdown",
   "metadata": {},
   "source": [
    "# 模型评价：回归模型的常用评价指标\n",
    "\n",
    "#### 样本误差：衡量模型在一个样本上的预测准确性\n",
    "\n",
    "样本误差 = 样本预测值 - 样本实际值\n",
    "\n",
    "#### 最常用的评价指标：均误差方（MSE）\n",
    "\n",
    "指标解释：所有样本的样本误差的平方的均值\n",
    "\n",
    "指标解读：均误差方越接近0，模型越准确\n",
    "\n",
    "#### 较为好解释的评价指标：平均绝对误差（MAE）\n",
    "\n",
    "指标解释：所有样本的样本误差的绝对值的均值\n",
    "\n",
    "指标解读：平均绝对误差的单位与因变量单位一致，越接近0，模型越准确\n",
    "\n",
    "#### 平均绝对误差的衍生指标：平均绝对比例误差（MAPE）\n",
    "\n",
    "指标解释：所有样本的样本误差的绝对值占实际值的比值\n",
    "\n",
    "指标解读：\n",
    "\n",
    "#### 模型解释度：R squared R方\n",
    "\n",
    "指标解释：应变量的方差能被自变量解释的程度\n",
    "\n",
    "指标解读：指标越接近1，则代表自变量对于应变量的解释度越高"
   ]
  },
  {
   "cell_type": "code",
   "execution_count": null,
   "metadata": {},
   "outputs": [],
   "source": [
    "# 使用sklearn查看回归模型的各项指标\n",
    "import pandas as pd\n",
    "import matplotlib.pyplot as plt\n",
    "# 样例数据读取\n",
    "df = pd.read_excel('realestate_sample_preprocessed.xlsx')\n",
    "# 根据共线性矩阵，保留与房价相关性最高的日间人口，将夜间人口和20-39岁夜间人口进行比例处理\n",
    "def age_percent(row):\n",
    "    if row['nightpop'] == 0:\n",
    "        return 0\n",
    "    else:\n",
    "        return row['night20-39']/row['nightpop']\n",
    "df['per_a20_39'] = df.apply(age_percent,axis=1)\n",
    "df = df.drop(columns=['nightpop','night20-39'])\n",
    "# 数据集基本情况查看\n",
    "print(df.shape)\n",
    "print(df.dtypes)\n",
    "print(df.isnull().sum())"
   ]
  },
  {
   "cell_type": "code",
   "execution_count": null,
   "metadata": {
    "scrolled": true
   },
   "outputs": [],
   "source": [
    "# 划分数据集\n",
    "x = df[['complete_year','area', 'daypop', 'sub_kde',\n",
    "       'bus_kde', 'kind_kde','per_a20_39']]\n",
    "y = df['average_price']\n",
    "print(x.shape)\n",
    "print(y.shape)"
   ]
  },
  {
   "cell_type": "code",
   "execution_count": null,
   "metadata": {},
   "outputs": [],
   "source": [
    "# 建立回归模型\n",
    "# 使用pipeline整合数据标准化、主成分分析与模型\n",
    "import numpy as np\n",
    "from sklearn.linear_model import LinearRegression, LassoCV\n",
    "from sklearn.model_selection import KFold\n",
    "from sklearn.preprocessing import StandardScaler, PowerTransformer\n",
    "from sklearn.preprocessing import PolynomialFeatures\n",
    "from sklearn.pipeline import Pipeline\n",
    "# 构建模型工作流\n",
    "pipe_lm = Pipeline([\n",
    "        ('sc',StandardScaler()),\n",
    "        ('power_trans',PowerTransformer()),\n",
    "        ('polynom_trans',PolynomialFeatures(degree=3)),\n",
    "        ('lasso_regr', LassoCV(alphas=(\n",
    "                list(np.arange(8, 10) * 10)\n",
    "            ),\n",
    "    cv=KFold(n_splits=3, shuffle=True),\n",
    "    n_jobs=-1))\n",
    "        ])\n",
    "print(pipe_lm)"
   ]
  },
  {
   "cell_type": "code",
   "execution_count": null,
   "metadata": {},
   "outputs": [],
   "source": [
    "# 查看模型表现\n",
    "import warnings\n",
    "from sklearn.metrics import mean_squared_error, mean_absolute_error, r2_score\n",
    "warnings.filterwarnings('ignore')\n",
    "pipe_lm.fit(x,y)\n",
    "y_predict = pipe_lm.predict(x)\n",
    "print(f'mean squared error is: {mean_squared_error(y,y_predict)}')\n",
    "print(f'mean absolute error is: {mean_absolute_error(y,y_predict)}')\n",
    "print(f'R Squared is: {r2_score(y,y_predict)}')\n",
    "# 计算mape\n",
    "check = df[['average_price']]\n",
    "check['y_predict'] = pipe_lm.predict(x)\n",
    "check['abs_err'] = abs(check['y_predict']-check['average_price'] )\n",
    "check['ape'] = check['abs_err']/check['average_price']\n",
    "ape = check['ape'].mean()\n",
    "print(f'mean absolute percent error is: {ape}')"
   ]
  },
  {
   "cell_type": "markdown",
   "metadata": {},
   "source": [
    "## 谢谢大家观看"
   ]
  },
  {
   "cell_type": "code",
   "execution_count": null,
   "metadata": {},
   "outputs": [],
   "source": []
  }
 ],
 "metadata": {
  "kernelspec": {
   "display_name": "Python 3",
   "language": "python",
   "name": "python3"
  },
  "language_info": {
   "codemirror_mode": {
    "name": "ipython",
    "version": 3
   },
   "file_extension": ".py",
   "mimetype": "text/x-python",
   "name": "python",
   "nbconvert_exporter": "python",
   "pygments_lexer": "ipython3",
   "version": "3.7.6"
  }
 },
 "nbformat": 4,
 "nbformat_minor": 2
}
