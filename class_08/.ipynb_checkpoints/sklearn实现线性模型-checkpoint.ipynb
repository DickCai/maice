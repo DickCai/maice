{
 "cells": [
  {
   "cell_type": "markdown",
   "metadata": {},
   "source": [
    "# sklearn 调用线性模型\n",
    "\n",
    "\n",
    "### Sklearn 官方documentation（写的真的非常好）：\n",
    "\n",
    "https://scikit-learn.org/stable/modules/linear_model.html"
   ]
  },
  {
   "cell_type": "code",
   "execution_count": 1,
   "metadata": {},
   "outputs": [
    {
     "data": {
      "text/plain": [
       "Index(['id', 'complete_year', 'average_price', 'area', 'daypop', 'nightpop',\n",
       "       'night20-39', 'sub_kde', 'bus_kde', 'kind_kde'],\n",
       "      dtype='object')"
      ]
     },
     "execution_count": 1,
     "metadata": {},
     "output_type": "execute_result"
    }
   ],
   "source": [
    "import pandas as pd \n",
    "df = pd.read_csv('C:/Working Tem/classes/real_estate_sample.csv')\n",
    "df.columns"
   ]
  },
  {
   "cell_type": "code",
   "execution_count": 8,
   "metadata": {},
   "outputs": [
    {
     "name": "stdout",
     "output_type": "stream",
     "text": [
      "True     500\n",
      "False    500\n",
      "Name: is_high, dtype: int64\n"
     ]
    }
   ],
   "source": [
    "price_median = df['average_price'].median()\n",
    "print(price_median)\n",
    "df['is_high'] = df['average_price'].map(lambda x: True if x>= price_median else False)\n",
    "print(df['is_high'].value_counts())"
   ]
  },
  {
   "cell_type": "code",
   "execution_count": 9,
   "metadata": {
    "collapsed": true
   },
   "outputs": [],
   "source": [
    "# 提取自变量\n",
    "x_train = df.copy()[['area', 'daypop', 'nightpop',\n",
    "       'night20-39', 'sub_kde', 'bus_kde', 'kind_kde']]\n",
    "# 提取应变量：数值型\n",
    "y_train = df.copy()['average_price']\n",
    "# 提取应变量：类别型\n",
    "y_label = df.copy()['is_high']"
   ]
  },
  {
   "cell_type": "code",
   "execution_count": 11,
   "metadata": {
    "collapsed": true
   },
   "outputs": [],
   "source": [
    "# 加载pipeline\n",
    "from sklearn.pipeline import Pipeline\n",
    "# 加载线性回归模型\n",
    "from sklearn.linear_model import LinearRegression\n",
    "# 构建线性回归模型\n",
    "pipe_lm = Pipeline([\n",
    "        ('lm_regr',LinearRegression(fit_intercept=True))\n",
    "        ])\n",
    "# 训练线性回归模型\n",
    "pipe_lm.fit(x_train, y_train)\n",
    "# 使用线性回归模型进行预测\n",
    "y_train_predict = pipe_lm.predict(x_train)"
   ]
  },
  {
   "cell_type": "code",
   "execution_count": 12,
   "metadata": {},
   "outputs": [
    {
     "name": "stdout",
     "output_type": "stream",
     "text": [
      "[ 9.68026492e+00  3.45789754e+00 -1.68662269e+01  4.34410864e+01\n",
      "  5.92819921e+04  3.41972844e+03  9.69441685e+03]\n",
      "24662.078913322737\n"
     ]
    }
   ],
   "source": [
    "# 查看线性回归模型特征参数\n",
    "print(pipe_lm.named_steps['lm_regr'].coef_)\n",
    "# 查看线性回归模型截距值\n",
    "print(pipe_lm.named_steps['lm_regr'].intercept_)"
   ]
  },
  {
   "cell_type": "code",
   "execution_count": 13,
   "metadata": {},
   "outputs": [
    {
     "name": "stdout",
     "output_type": "stream",
     "text": [
      "      feature   coefficient\n",
      "0        area      9.680265\n",
      "1      daypop      3.457898\n",
      "2    nightpop    -16.866227\n",
      "3  night20-39     43.441086\n",
      "4     sub_kde  59281.992139\n",
      "5     bus_kde   3419.728439\n",
      "6    kind_kde   9694.416848\n"
     ]
    }
   ],
   "source": [
    "# 提取模型特征参数\n",
    "coef = pipe_lm.named_steps['lm_regr'].coef_\n",
    "# 提取对应的特征名称\n",
    "features = x_train.columns.tolist()\n",
    "# 构建参数df\n",
    "coef_table = pd.DataFrame({'feature': features, 'coefficient': coef})\n",
    "print(coef_table)"
   ]
  },
  {
   "cell_type": "code",
   "execution_count": 16,
   "metadata": {},
   "outputs": [
    {
     "data": {
      "image/png": "[encoded data removed]",
      "text/plain": [
       "<matplotlib.figure.Figure at 0x17d37fbd7f0>"
      ]
     },
     "metadata": {},
     "output_type": "display_data"
    }
   ],
   "source": [
    "# 加载画图组件matplotlib\n",
    "import matplotlib.pyplot as plt\n",
    "# 绘制参数特征值柱状图\n",
    "coef_table.set_index(['feature']).plot.barh()\n",
    "# 设置x等于0的参考线\n",
    "plt.axvline(0, color='k')\n",
    "# 显示图表\n",
    "plt.show()"
   ]
  },
  {
   "cell_type": "code",
   "execution_count": 17,
   "metadata": {},
   "outputs": [
    {
     "data": {
      "image/png": "[encoded data removed]",
      "text/plain": [
       "<matplotlib.figure.Figure at 0x17d3a9f4d30>"
      ]
     },
     "metadata": {},
     "output_type": "display_data"
    }
   ],
   "source": [
    "# 绘制参数特征值柱状图\n",
    "coef_table.set_index(['feature']).iloc[0:4].plot.barh()\n",
    "# 设置x等于0的参考线\n",
    "plt.axvline(0, color='k')\n",
    "# 显示图表\n",
    "plt.show()"
   ]
  },
  {
   "cell_type": "code",
   "execution_count": 20,
   "metadata": {},
   "outputs": [],
   "source": [
    "# 加载lasso回归模型\n",
    "from sklearn.linear_model import Lasso\n",
    "# 构建线性回归模型\n",
    "pipe_lasso = Pipeline([\n",
    "        ('lasso_regr',Lasso(alpha=500, fit_intercept=True))\n",
    "        ])\n",
    "# 训练线性回归模型\n",
    "pipe_lasso.fit(x_train, y_train)\n",
    "# 使用线性回归模型进行预测\n",
    "y_train_predict = pipe_lasso.predict(x_train)"
   ]
  },
  {
   "cell_type": "code",
   "execution_count": 21,
   "metadata": {},
   "outputs": [
    {
     "name": "stdout",
     "output_type": "stream",
     "text": [
      "[ 27.03261599   6.97427277 -14.89931364  33.19206407   0.\n",
      "   0.           0.        ]\n",
      "26065.635086213657\n"
     ]
    }
   ],
   "source": [
    "# 查看线性回归模型特征参数\n",
    "print(pipe_lasso.named_steps['lasso_regr'].coef_)\n",
    "# 查看线性回归模型截距值\n",
    "print(pipe_lasso.named_steps['lasso_regr'].intercept_)"
   ]
  },
  {
   "cell_type": "code",
   "execution_count": 22,
   "metadata": {},
   "outputs": [
    {
     "name": "stdout",
     "output_type": "stream",
     "text": [
      "      feature  coefficient\n",
      "0        area    27.032616\n",
      "1      daypop     6.974273\n",
      "2    nightpop   -14.899314\n",
      "3  night20-39    33.192064\n",
      "4     sub_kde     0.000000\n",
      "5     bus_kde     0.000000\n",
      "6    kind_kde     0.000000\n"
     ]
    }
   ],
   "source": [
    "# 提取模型特征参数\n",
    "coef = pipe_lasso.named_steps['lasso_regr'].coef_\n",
    "# 提取对应的特征名称\n",
    "features = x_train.columns.tolist()\n",
    "# 构建参数df\n",
    "coef_table = pd.DataFrame({'feature': features, 'coefficient': coef})\n",
    "print(coef_table)"
   ]
  },
  {
   "cell_type": "code",
   "execution_count": 23,
   "metadata": {},
   "outputs": [
    {
     "data": {
      "image/png": "[encoded data removed]",
      "text/plain": [
       "<matplotlib.figure.Figure at 0x17d3aa92f98>"
      ]
     },
     "metadata": {},
     "output_type": "display_data"
    }
   ],
   "source": [
    "coef_table.set_index(['feature']).plot.barh()\n",
    "# 设置x等于0的参考线\n",
    "plt.axvline(0, color='k')\n",
    "# 显示图表\n",
    "plt.show()"
   ]
  },
  {
   "cell_type": "code",
   "execution_count": 24,
   "metadata": {
    "collapsed": true
   },
   "outputs": [],
   "source": [
    "# 加载ridge回归模型\n",
    "from sklearn.linear_model import Ridge\n",
    "# 构建ridge回归模型\n",
    "pipe_ridge = Pipeline([\n",
    "        ('ridge_regr',Ridge(alpha=500, fit_intercept=True, solver = 'lsqr'))\n",
    "        ])\n",
    "# 训练ridge回归模型\n",
    "pipe_ridge.fit(x_train, y_train)\n",
    "# 使用ridge回归模型进行预测\n",
    "y_train_predict = pipe_ridge.predict(x_train)"
   ]
  },
  {
   "cell_type": "code",
   "execution_count": 25,
   "metadata": {},
   "outputs": [
    {
     "name": "stdout",
     "output_type": "stream",
     "text": [
      "[ 27.12349221   7.01529213 -15.17165526  33.87360557   0.27343921\n",
      "   0.16398909   0.67896087]\n",
      "26056.944107140367\n"
     ]
    }
   ],
   "source": [
    "# 查看ridge回归模型特征参数\n",
    "print(pipe_ridge.named_steps['ridge_regr'].coef_)\n",
    "# 查看ridge回归模型截距值\n",
    "print(pipe_ridge.named_steps['ridge_regr'].intercept_)"
   ]
  },
  {
   "cell_type": "code",
   "execution_count": 27,
   "metadata": {},
   "outputs": [
    {
     "name": "stdout",
     "output_type": "stream",
     "text": [
      "      feature  coefficient\n",
      "0        area    27.123492\n",
      "1      daypop     7.015292\n",
      "2    nightpop   -15.171655\n",
      "3  night20-39    33.873606\n",
      "4     sub_kde     0.273439\n",
      "5     bus_kde     0.163989\n",
      "6    kind_kde     0.678961\n"
     ]
    }
   ],
   "source": [
    "# 提取模型特征参数\n",
    "coef = pipe_ridge.named_steps['ridge_regr'].coef_\n",
    "# 提取对应的特征名称\n",
    "features = x_train.columns.tolist()\n",
    "# 构建参数df\n",
    "coef_table = pd.DataFrame({'feature': features, 'coefficient': coef})\n",
    "print(coef_table)"
   ]
  },
  {
   "cell_type": "code",
   "execution_count": 28,
   "metadata": {},
   "outputs": [
    {
     "data": {
      "image/png": "[encoded data removed]",
      "text/plain": [
       "<matplotlib.figure.Figure at 0x17d3a90dd68>"
      ]
     },
     "metadata": {},
     "output_type": "display_data"
    }
   ],
   "source": [
    "coef_table.set_index(['feature']).plot.barh()\n",
    "# 设置x等于0的参考线\n",
    "plt.axvline(0, color='k')\n",
    "# 显示图表\n",
    "plt.show()"
   ]
  },
  {
   "cell_type": "code",
   "execution_count": 39,
   "metadata": {},
   "outputs": [],
   "source": [
    "# 加载logsti回归模型\n",
    "from sklearn.linear_model import LogisticRegression\n",
    "# 构建线性回归模型\n",
    "pipe_logistic = Pipeline([\n",
    "        ('logistic_clf',LogisticRegression(penalty='l1', fit_intercept=True, solver='liblinear'))\n",
    "        ])\n",
    "# 训练线性回归模型\n",
    "pipe_logistic.fit(x_train, y_label)\n",
    "# 使用线性回归模型进行预测\n",
    "y_train_predict = pipe_logistic.predict(x_train)"
   ]
  },
  {
   "cell_type": "markdown",
   "metadata": {},
   "source": [
    "逻辑回归模型参数解释 v0.21.2\n",
    "penalty（默认使用l2正则系数）\n",
    "* 'l1': l1正则系数\n",
    "* 'l2': l2正则系数\n",
    "* 'none':无正则系数\n",
    "solver（默认是'liblinear':坐标下降法）\n",
    "'liblinear'：坐标下降法，可以处理了l1和l2正则系数，适用于小数据量（一般指10w个样本以下）\n",
    "'sag'：sag是随机平均梯度下降法，只能处理l2正则系数，适用于大数据量\n",
    "'saga': saga是sag的变体，能处理l1和l2正则系数，适用于大数据量"
   ]
  },
  {
   "cell_type": "code",
   "execution_count": 36,
   "metadata": {},
   "outputs": [
    {
     "name": "stdout",
     "output_type": "stream",
     "text": [
      "[[-3.54480843e-04  1.13792950e-03 -4.69436130e-03  1.09659879e-02\n",
      "   7.06947474e-01  4.18446841e-01  1.58519131e+00]]\n",
      "[-0.43937043]\n"
     ]
    }
   ],
   "source": [
    "# 查看逻辑回归模型特征参数\n",
    "print(pipe_logistic.named_steps['logistic_clf'].coef_)\n",
    "# 查看逻辑回归模型截距值\n",
    "print(pipe_logistic.named_steps['logistic_clf'].intercept_)"
   ]
  },
  {
   "cell_type": "code",
   "execution_count": 41,
   "metadata": {},
   "outputs": [
    {
     "name": "stdout",
     "output_type": "stream",
     "text": [
      "      feature  coefficient\n",
      "0        area    -0.002542\n",
      "1      daypop     0.000851\n",
      "2    nightpop    -0.004658\n",
      "3  night20-39     0.011652\n",
      "4     sub_kde     9.622915\n",
      "5     bus_kde     0.189062\n",
      "6    kind_kde     1.412212\n"
     ]
    }
   ],
   "source": [
    "# 提取模型特征参数\n",
    "coef = pipe_logistic.named_steps['logistic_clf'].coef_[0]\n",
    "# 提取对应的特征名称\n",
    "features = x_train.columns.tolist()\n",
    "# 构建参数df\n",
    "coef_table = pd.DataFrame({'feature': features, 'coefficient': coef})\n",
    "print(coef_table)"
   ]
  },
  {
   "cell_type": "code",
   "execution_count": 42,
   "metadata": {},
   "outputs": [
    {
     "data": {
      "image/png": "[encoded data removed]",
      "text/plain": [
       "<matplotlib.figure.Figure at 0x17d3a986828>"
      ]
     },
     "metadata": {},
     "output_type": "display_data"
    }
   ],
   "source": [
    "coef_table.set_index(['feature']).plot.barh()\n",
    "# 设置x等于0的参考线\n",
    "plt.axvline(0, color='k')\n",
    "# 显示图表\n",
    "plt.show()"
   ]
  }
 ],
 "metadata": {
  "kernelspec": {
   "display_name": "Python 3",
   "language": "python",
   "name": "python3"
  },
  "language_info": {
   "codemirror_mode": {
    "name": "ipython",
    "version": 3
   },
   "file_extension": ".py",
   "mimetype": "text/x-python",
   "name": "python",
   "nbconvert_exporter": "python",
   "pygments_lexer": "ipython3",
   "version": "3.7.6"
  }
 },
 "nbformat": 4,
 "nbformat_minor": 2
}
