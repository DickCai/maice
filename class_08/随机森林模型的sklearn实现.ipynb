{
 "cells": [
  {
   "cell_type": "markdown",
   "metadata": {},
   "source": [
    "# 随机森林模型的sklearn实现"
   ]
  },
  {
   "cell_type": "code",
   "execution_count": 19,
   "metadata": {},
   "outputs": [
    {
     "name": "stdout",
     "output_type": "stream",
     "text": [
      "30273.0\n",
      "True     449\n",
      "False    449\n",
      "Name: is_high, dtype: int64\n",
      "(898, 10)\n",
      "id                 int64\n",
      "complete_year      int64\n",
      "average_price    float64\n",
      "area             float64\n",
      "daypop           float64\n",
      "sub_kde          float64\n",
      "bus_kde          float64\n",
      "kind_kde         float64\n",
      "per_a20_39       float64\n",
      "is_high             bool\n",
      "dtype: object\n",
      "id               0\n",
      "complete_year    0\n",
      "average_price    0\n",
      "area             0\n",
      "daypop           0\n",
      "sub_kde          0\n",
      "bus_kde          0\n",
      "kind_kde         0\n",
      "per_a20_39       0\n",
      "is_high          0\n",
      "dtype: int64\n"
     ]
    }
   ],
   "source": [
    "import pandas as pd\n",
    "import matplotlib.pyplot as plt\n",
    "# 样例数据读取\n",
    "df = pd.read_excel('realestate_sample_preprocessed.xlsx')\n",
    "# 根据共线性矩阵，保留与房价相关性最高的日间人口，将夜间人口和20-39岁夜间人口进行比例处理\n",
    "def age_percent(row):\n",
    "    if row['nightpop'] == 0:\n",
    "        return 0\n",
    "    else:\n",
    "        return row['night20-39']/row['nightpop']\n",
    "df['per_a20_39'] = df.apply(age_percent,axis=1)\n",
    "df = df.drop(columns=['nightpop','night20-39'])\n",
    "# 制作标签变量\n",
    "price_median = df['average_price'].median()\n",
    "print(price_median)\n",
    "df['is_high'] = df['average_price'].map(lambda x: True if x>= price_median else False)\n",
    "print(df['is_high'].value_counts())\n",
    "# 数据集基本情况查看\n",
    "print(df.shape)\n",
    "print(df.dtypes)\n",
    "print(df.isnull().sum())"
   ]
  },
  {
   "cell_type": "code",
   "execution_count": 20,
   "metadata": {},
   "outputs": [
    {
     "name": "stdout",
     "output_type": "stream",
     "text": [
      "the shape of training set is: (673, 10)\n",
      "the shape of testing set is: (225, 10)\n"
     ]
    }
   ],
   "source": [
    "# 留出法进行数据集划分\n",
    "# 载入sklearn中数据集划分的方法\n",
    "from sklearn.model_selection import train_test_split\n",
    "# 将数据集划分成训练集和验证集：划分比例0.75训练，0.25验证\n",
    "training, testing = train_test_split(df,test_size=0.25, random_state=1)\n",
    "# 提取训练集中的x与y\n",
    "x_train = training.copy()[['complete_year','area', 'daypop', 'sub_kde',\n",
    "       'bus_kde', 'kind_kde','per_a20_39']]\n",
    "y_train = training.copy()['is_high']\n",
    "# 提取验证集中的x与y\n",
    "x_test = testing.copy()[['complete_year','area', 'daypop', 'sub_kde',\n",
    "       'bus_kde', 'kind_kde','per_a20_39']]\n",
    "y_test = testing.copy()['is_high']\n",
    "print(f'the shape of training set is: {training.shape}')\n",
    "print(f'the shape of testing set is: {testing.shape}')"
   ]
  },
  {
   "cell_type": "code",
   "execution_count": 21,
   "metadata": {
    "scrolled": true
   },
   "outputs": [
    {
     "name": "stdout",
     "output_type": "stream",
     "text": [
      "Pipeline(memory=None,\n",
      "     steps=[('sc', StandardScaler(copy=True, with_mean=True, with_std=True)), ('power_trans', PowerTransformer(copy=True, method='yeo-johnson', standardize=True)), ('polynom_trans', PolynomialFeatures(degree=2, include_bias=True, interaction_only=False)), ('rf_clf', RandomForestClassifier(bootstrap=True,...mators=100, n_jobs=16,\n",
      "            oob_score=False, random_state=133, verbose=0, warm_start=False))])\n"
     ]
    }
   ],
   "source": [
    "from sklearn.preprocessing import PowerTransformer, StandardScaler, PolynomialFeatures\n",
    "from sklearn.pipeline import Pipeline\n",
    "from sklearn.ensemble import RandomForestClassifier\n",
    "rf_model = RandomForestClassifier(criterion='gini',\n",
    "                                  n_jobs=16,\n",
    "                                  max_features = 'auto',\n",
    "                                  n_estimators = 100,\n",
    "                                  max_depth = None,\n",
    "                                  random_state=133)\n",
    "pipe_clf = Pipeline([\n",
    "        ('sc',StandardScaler()),\n",
    "        ('power_trans',PowerTransformer()),\n",
    "        ('polynom_trans',PolynomialFeatures(degree=2)),\n",
    "        ('rf_clf', rf_model)\n",
    "        ])\n",
    "print(pipe_clf)"
   ]
  },
  {
   "cell_type": "markdown",
   "metadata": {},
   "source": [
    "## 随机森林模型参数讲解\n",
    "\n",
    "#### 特有参数：\n",
    "\n",
    "**n_estimators**: 也就是子学习器的个数\n",
    "\n",
    "**max_features**: 每棵树选择的特征的最大数量，默认是\"auto\"\n",
    "\n",
    "**bootstrap**： 默认True，构建决策树的时候是否使用有放回的抽样方式构建训练数据\n",
    "\n",
    "#### 决策树模型参数：\n",
    "\n",
    "**criterion:**做划分时对特征的评价标准默认是基尼系数gini,另一个可选择的标准是信息增益。回归树默认是均方差mse，另一个可是绝对值差mae。\n",
    "\n",
    "**max_depth**: 每棵树的最大深度，默认None\n",
    "\n",
    "**min_samples_split**: 内部节点再划分所需最小样本数\n",
    "\n",
    "**min_samples_leaf**: 叶子节点最少样本数\n",
    "\n",
    "**max_leaf_nodes**:  最大叶子节点数"
   ]
  },
  {
   "cell_type": "code",
   "execution_count": 22,
   "metadata": {},
   "outputs": [
    {
     "name": "stdout",
     "output_type": "stream",
     "text": [
      "accuracy score is: 0.8622222222222222\n",
      "precision score is: 0.8761061946902655\n",
      "recall score is: 0.853448275862069\n",
      "auc: 0.862503954444796\n"
     ]
    }
   ],
   "source": [
    "# 查看留出法验证集上模型的表现\n",
    "import warnings\n",
    "from sklearn.metrics import accuracy_score, precision_score, recall_score, roc_auc_score\n",
    "warnings.filterwarnings('ignore')\n",
    "pipe_clf.fit(x_train,y_train)\n",
    "y_predict = pipe_clf.predict(x_test)\n",
    "print(f'accuracy score is: {accuracy_score(y_test,y_predict)}')\n",
    "print(f'precision score is: {precision_score(y_test,y_predict)}')\n",
    "print(f'recall score is: {recall_score(y_test,y_predict)}')\n",
    "print(f'auc: {roc_auc_score(y_test,y_predict)}')"
   ]
  },
  {
   "cell_type": "code",
   "execution_count": null,
   "metadata": {},
   "outputs": [],
   "source": []
  }
 ],
 "metadata": {
  "kernelspec": {
   "display_name": "Python 3",
   "language": "python",
   "name": "python3"
  },
  "language_info": {
   "codemirror_mode": {
    "name": "ipython",
    "version": 3
   },
   "file_extension": ".py",
   "mimetype": "text/x-python",
   "name": "python",
   "nbconvert_exporter": "python",
   "pygments_lexer": "ipython3",
   "version": "3.7.6"
  }
 },
 "nbformat": 4,
 "nbformat_minor": 2
}
